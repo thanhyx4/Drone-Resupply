{
  "cells": [
    {
      "cell_type": "markdown",
      "metadata": {
        "id": "view-in-github",
        "colab_type": "text"
      },
      "source": [
        "<a href=\"https://colab.research.google.com/github/thanhyx4/Drone-Resupply/blob/main/GA_Algorithm.ipynb\" target=\"_parent\"><img src=\"https://colab.research.google.com/assets/colab-badge.svg\" alt=\"Open In Colab\"/></a>"
      ]
    },
    {
      "cell_type": "code",
      "execution_count": 553,
      "metadata": {
        "id": "5d8EH0khF3FE"
      },
      "outputs": [],
      "source": [
        "import copy\n",
        "import math\n",
        "import time\n",
        "import numpy as np\n",
        "import pandas as pd\n",
        "import random\n",
        "import matplotlib.pyplot as plt\n",
        "%matplotlib inline"
      ]
    },
    {
      "cell_type": "code",
      "execution_count": 554,
      "metadata": {
        "colab": {
          "base_uri": "https://localhost:8080/"
        },
        "id": "IF3dxwI8F5ry",
        "outputId": "3777d5ef-910a-4bd2-d8c9-359dd547af4d"
      },
      "outputs": [
        {
          "output_type": "stream",
          "name": "stdout",
          "text": [
            "Drive already mounted at /content/drive; to attempt to forcibly remount, call drive.mount(\"/content/drive\", force_remount=True).\n"
          ]
        }
      ],
      "source": [
        "from google.colab import drive\n",
        "drive.mount('/content/drive')"
      ]
    },
    {
      "cell_type": "code",
      "execution_count": 555,
      "metadata": {
        "id": "Ghb4uUG_F5oc"
      },
      "outputs": [],
      "source": [
        "start_time = time.time()\n",
        "\n",
        "with open('/content/drive/My Drive/Colab Notebooks/DataPrj_EC/100cus.dat', 'r') as f:\n",
        "  file1 = []\n",
        "  for line in f:\n",
        "    file1.append(line)"
      ]
    },
    {
      "cell_type": "markdown",
      "metadata": {
        "id": "uy_BEPE5F_uT"
      },
      "source": [
        "# READ DATA"
      ]
    },
    {
      "cell_type": "code",
      "execution_count": 556,
      "metadata": {
        "id": "niEkwIVFGCgN"
      },
      "outputs": [],
      "source": [
        "def readData(file1):\n",
        "  num_customers = int(file1[0].split()[1])  - 1       #except depot\n",
        "  num_trucks = 2\n",
        "  num_drones = int(file1[2].split()[1])\n",
        "  listX = []\n",
        "  listY = []\n",
        "  W = []\n",
        "  for i in range(5,5+num_customers):\n",
        "    line_i = file1[i].split()\n",
        "    listX.append(line_i[0])\n",
        "    listY.append(line_i[1])\n",
        "    W.append(line_i[6])\n",
        "  return listX, listY, W\n",
        "\n",
        "X, Y, W = readData(file1)           #\n",
        "X = np.array(X, dtype=int)\n",
        "Y = np.array(Y, dtype =int)\n",
        "W = np.array(W, dtype = int)"
      ]
    },
    {
      "cell_type": "code",
      "execution_count": 557,
      "metadata": {
        "id": "CpRn6hgqLFEt"
      },
      "outputs": [],
      "source": [
        "# Thư viện\n",
        "import re\n",
        "import itertools\n",
        "import numpy as np\n",
        "\n",
        "# Lấy các số từ chuỗi (Phải có khoảng cách giữa chữ và số)\n",
        "\n",
        "\n",
        "def getNumber(str):\n",
        "    # Mảng chứa các số kiểu chuỗi\n",
        "    numberList = re.findall(r'\\b\\d+\\b', str)\n",
        "    # Chuổi đổi sang kiểu số\n",
        "    return int(numberList[0])\n",
        "\n",
        "\n",
        "def getAllPermutations(array):\n",
        "    # Mảng chứa tất cả các hoán vị\n",
        "    output = []\n",
        "    # Là hoán vị\n",
        "    subArr = []\n",
        "    # danh sách các hoán vị\n",
        "    permutations = itertools.permutations(array)\n",
        "    count = 100\n",
        "    # Lấy từng hoán vị\n",
        "    for perm in permutations:\n",
        "        subArr = list(perm)\n",
        "        output.append(subArr)\n",
        "        count -= 1\n",
        "        if(count ==0):\n",
        "         break\n",
        "    # Trả về\n",
        "    return output\n"
      ]
    },
    {
      "cell_type": "markdown",
      "metadata": {
        "id": "xfBFlotjomKa"
      },
      "source": [
        "# LAI GHÉP"
      ]
    },
    {
      "cell_type": "code",
      "execution_count": 558,
      "metadata": {
        "id": "jv1Ym5RaLY63"
      },
      "outputs": [],
      "source": [
        "import random\n",
        "\n",
        "\n",
        "def standardized_gene(parent, drone):\n",
        "    drone_pmx=[]\n",
        "    parentTemp = []\n",
        "    count = 0\n",
        "    indexOfNegativeNum = []\n",
        "    for i in parent:\n",
        "        if i < 0:\n",
        "            # Lưu lại vị trí các vách ngăn\n",
        "            indexOfNegativeNum.append(count)\n",
        "        else:\n",
        "            # Tạo mảng mới toàn số dương\n",
        "            parentTemp.append(i)\n",
        "            drone_pmx.append(i)\n",
        "        count += 1\n",
        "    return parentTemp, drone_pmx, indexOfNegativeNum\n",
        "\n",
        "\n",
        "def format_gene(child, drone, indexOfNegativeNum):\n",
        "    for i in indexOfNegativeNum:\n",
        "        child.insert(i, -1)\n",
        "        drone.insert(i,0)\n",
        "    return child, drone\n",
        "\n",
        "# Phép lai ánh xạ từng phần (PMX - Partial Mappel Crossover)\n",
        "\n",
        "\n",
        "def PMX_crossover(parent1, parent2, drone1, drone2):\n",
        "    '''\n",
        "    parent1 and parent2 are lists\n",
        "    '''\n",
        "    indexOfNegativeNum1 = []\n",
        "    indexOfNegativeNum2 = []\n",
        "    parent1_pmx, drone1_pmx, indexOfNegativeNum1 = standardized_gene(parent1, drone1)\n",
        "    parent2_pmx, drone2_pmx, indexOfNegativeNum2 = standardized_gene(parent2, drone2)\n",
        "\n",
        "    length = len(parent1_pmx)  # Lấy chiều dài gen\n",
        "\n",
        "    # Creating parameters for random sublist\n",
        "    firstCrossPoint = random.randint(0, length - 2)       #0 -> length-2\n",
        "    secondCrossPoint = random.randint(firstCrossPoint + 1, length - 1)    #length-1 -> length-1\n",
        "\n",
        "    # Lấy 2 đoạn của 2 gen\n",
        "    parent1MiddleCross = parent1_pmx[firstCrossPoint:secondCrossPoint]          #length-2\n",
        "    parent2MiddleCross = parent2_pmx[firstCrossPoint:secondCrossPoint]\n",
        "\n",
        "    drone1MiddleCross = drone1[firstCrossPoint:secondCrossPoint]\n",
        "    drone2MiddleCross = drone2[firstCrossPoint:secondCrossPoint]\n",
        "    # Create 2 temporary sub genes\n",
        "\n",
        "    #find good pairs\n",
        "    relations = []\n",
        "    middletmp1 = list( set(parent1MiddleCross) - set(parent2MiddleCross) )\n",
        "    middletmp2 = list( set(parent2MiddleCross) - set(parent1MiddleCross) )\n",
        "    for i in range(len(middletmp1)):\n",
        "        relations.append([middletmp1[i], middletmp2[i]])\n",
        "    del middletmp1, middletmp2\n",
        "    # Đối sánh\n",
        "    for pair in relations:\n",
        "      idx1 = parent1_pmx.index(pair[1])\n",
        "      idx2 = parent2_pmx.index(pair[0])\n",
        "      parent1_pmx[idx1] = pair[0]\n",
        "      parent2_pmx[idx2] = pair[1]\n",
        "      drone1_pmx[idx1] = drone1_pmx[parent1_pmx.index(pair[0])]\n",
        "      drone2_pmx[idx2] = drone2_pmx[parent2_pmx.index(pair[1])]\n",
        "\n",
        "    child1 = (parent1_pmx[:firstCrossPoint] +\n",
        "              parent2MiddleCross + parent1_pmx[secondCrossPoint:])\n",
        "    child2 = (parent2_pmx[:firstCrossPoint] +\n",
        "              parent1MiddleCross + parent2_pmx[secondCrossPoint:])\n",
        "    childDrone1 = (drone1[:firstCrossPoint] +\n",
        "                   drone2MiddleCross + drone1[secondCrossPoint:])                  \n",
        "    childDrone2 = (drone2[:firstCrossPoint] +\n",
        "                   drone1MiddleCross + drone2[secondCrossPoint:])\n",
        "\n",
        "\n",
        "    child1, childDrone1 = format_gene(child1,childDrone1,  indexOfNegativeNum1)\n",
        "    child2, childDrone2  = format_gene(child2, childDrone2, indexOfNegativeNum2)\n",
        "\n",
        "    # Trả về 2 cá thể\n",
        "    if( sum(list(child1)) != sum(list(child2)) | sum(list(parent1)) != sum(list(child1)) ):\n",
        "      print(parent1)\n",
        "      print(parent2)\n",
        "      print(parent1MiddleCross)\n",
        "      print(parent2MiddleCross)\n",
        "      print(relations)\n",
        "      print(child1)\n",
        "      print(child2)\n",
        "      return 0\n",
        "    else:\n",
        "      return child1, child2, childDrone1, childDrone2"
      ]
    },
    {
      "cell_type": "markdown",
      "metadata": {
        "id": "uwgLPsULLyqk"
      },
      "source": [
        "# ĐỘT BIẾN ĐỔI CHỖ 2 ĐIỂM"
      ]
    },
    {
      "cell_type": "code",
      "execution_count": 559,
      "metadata": {
        "id": "FuM8I9amLxSK"
      },
      "outputs": [],
      "source": [
        "import random\n",
        "def MutationSwap2Point(GenTruck, GenDrone):\n",
        "  length = len(GenTruck)\n",
        "  first =random.randint(0, length-1)\n",
        "  second = random.randint(0, length-1)\n",
        "  while((first == second) | (GenTruck[first] == GenTruck[second])):\n",
        "    first =random.randint(0, length-1)\n",
        "\n",
        "  childTruck = copy.deepcopy(GenTruck)\n",
        "  childTruck[first], childTruck[second] = childTruck[second], childTruck[first]\n",
        "  childDrone = copy.deepcopy(GenDrone)\n",
        "  childDrone[first], childDrone[second] =  childDrone[second], childDrone[first]\n",
        "  return childTruck, childDrone\n"
      ]
    },
    {
      "cell_type": "markdown",
      "metadata": {
        "id": "JvE6hvu-oulQ"
      },
      "source": [
        "# ĐỘT BIẾN ĐỔI CHỖ 2 ĐOẠN"
      ]
    },
    {
      "cell_type": "code",
      "execution_count": 560,
      "metadata": {
        "colab": {
          "base_uri": "https://localhost:8080/"
        },
        "id": "0b9eyM8yoxGk",
        "outputId": "bf9a59de-4a74-44fe-d3fd-2a6f86c26f76"
      },
      "outputs": [
        {
          "output_type": "stream",
          "name": "stdout",
          "text": [
            "[6, 7, 9, -1, 4, 3, 8, -1, 2, 5, 10, 1]\n"
          ]
        }
      ],
      "source": [
        "import random\n",
        "import math\n",
        "def MutationSwap2Line(parent):\n",
        "  length= len(parent)\n",
        "  line = math.floor(length/10)\n",
        "  #print(line)\n",
        "  firstMutation = random.randint(0, 2*line)\n",
        "  secondMutation = random.randint(firstMutation + line, length -1 - line)\n",
        "  #print(firstMutation, secondMutation)\n",
        "  child = copy.deepcopy(parent)\n",
        "  #print(child)\n",
        "  i=0\n",
        "  while(i<line):\n",
        "    child[firstMutation + i], child[secondMutation + i] = child[secondMutation + i], child[firstMutation + i]\n",
        "    i += 1\n",
        "  return child\n",
        "\n",
        "def main():\n",
        "    print(MutationSwap2Line([6, 9, 7, -1, 4, 3, 8, -1, 2, 5, 10, 1]))\n",
        "\n",
        "\n",
        "if __name__ == '__main__':\n",
        "    main()"
      ]
    },
    {
      "cell_type": "markdown",
      "metadata": {
        "id": "da-loYwwGIDZ"
      },
      "source": [
        "# INIT SOLUTION"
      ]
    },
    {
      "cell_type": "code",
      "execution_count": 561,
      "metadata": {
        "id": "-G9z5Wu5GJgS"
      },
      "outputs": [],
      "source": [
        "# import libraries\n",
        "import numpy as np\n",
        "import math\n",
        "import random\n",
        "# Hằng số\n",
        "NUMBER_OF_TRUCKS = 3\n",
        "NUMBER_OF_DRONES = 3\n",
        "TRUCK_SPEED = 30  # km/h\n",
        "DRONE_SPEED = TRUCK_SPEED * 1.5\n",
        "DRONE_LIMIT_TIME = 15  # phút\n",
        "N = 6  # Lấy dữ liệu từ dòng số 6\n",
        "LIMITED_GENS = 100  # Số lượng gen giới hạn\n",
        "\n",
        "# Lấy mảng chứa các dòng dữ liệu trong file\n",
        "#lines = file.readFollowingLines(N)\n",
        "lines = file1[5:]\n",
        "\n",
        "# Khởi báo các biến\n",
        "numberOfTrucks = NUMBER_OF_TRUCKS  # số lượng xe tải\n",
        "numberOfCustomers = len(lines)                                                                          # số lượng khách hàng + 1\n",
        "numberOfDrones = NUMBER_OF_DRONES  # số lượng drone\n",
        "customerX = []  # Lưu trữ hoành độ của các khách hàng\n",
        "customerY = []  # Lưu trữ tung độ của các khách hàng\n",
        "releaseDate = []  # Lưu thời gian sản phẩm sẵn sàng của các khách hàng\n",
        "vector = []  # vector nối các depot với các vị trí khách hàng\n",
        "angles = np.zeros((numberOfCustomers, numberOfCustomers)\n",
        "                  )  # chứa góc các vector với nhau\n",
        "# Mảng chứa thời gian bay của drone đến các vị trí khách hàng\n",
        "# Nếu vị trí khách hàng nằm ngoài khoảng bay được của drone -> gán -1\n",
        "timeDepotToCusByDrone = []\n",
        "# mảng chứa tổng thời gian từ depot đến vị trí khách hàng và release date\n",
        "heuristicTime = [0]\n",
        "# Trung bình (Thời gian từ depot đến vị trí các khách hàng + release date)\n",
        "averageOfHeuristicTime = 0\n",
        "# Mảng chứa vị trí các khách hàng đến thăm của từng xe tải\n",
        "destination = []\n",
        "# Mảng chứa điểm đến của các xe tải\n",
        "truckDestinations = [[]]\n",
        "# Phương sai\n",
        "variance = 0\n",
        "# Mảng chứa các thời gian di chuyển của truck giữa các điểm\n",
        "timeOfDesToDes = np.zeros((numberOfCustomers, numberOfCustomers))\n",
        "\n",
        "# Khởi tạo các biến\n",
        "for line in lines:\n",
        "    lineNum = line.split()\n",
        "    customerX.append(int(lineNum[0]))  # customerX[0] : depot\n",
        "    customerY.append(int(lineNum[1]))\n",
        "    releaseDate.append(int(lineNum[-1]))\n",
        "    # khởi tạo vector tạo bởi all data point (include depot point) and depot\n",
        "    # vector by depot point and all data point (include depot)\n",
        "    vector.append([customerX[-1] - customerX[0], customerY[-1] - customerY[0]])\n",
        "\n",
        "# Khởi tạo mảng chứa các thời gian di chuyển của truck giữa các điểm\n",
        "for i in range(0, numberOfCustomers):\n",
        "    for j in range(i + 1, numberOfCustomers):\n",
        "        # Tinh khoang cach theo mahattan\n",
        "        distance = abs(customerX[i] - customerY[i]) + \\\n",
        "            abs(customerX[j] - customerY[j])\n",
        "        # t = s / v\n",
        "        time_truck = distance / TRUCK_SPEED\n",
        "        timeOfDesToDes[i][j] = timeOfDesToDes[j][i] = time_truck * \\\n",
        "            60  # Truck_time all data point\n",
        "\n",
        "# khởi tạo mảng chứa thời gian bay của drone\n",
        "for arr in vector:\n",
        "    # Tính khoảng cách theo eclip\n",
        "    distance = math.sqrt(arr[0] * arr[0] + arr[1] * arr[1])\n",
        "    # Tính thời gian\n",
        "    time_drone = distance / DRONE_SPEED * 60  # đổi ra phút\n",
        "    # Kiểm tra giới hạn bay\n",
        "    if (time_drone <= DRONE_LIMIT_TIME):\n",
        "        timeDepotToCusByDrone.append(time_drone)\n",
        "    else:\n",
        "        timeDepotToCusByDrone.append(-1)  # flying time: include depot to depot\n",
        "\n",
        "\n",
        "# Khởi tạo mảng các góc giữa các vector\n",
        "\n",
        "\n",
        "def getAngle(v1, v2):\n",
        "    numerator = v1[0] * v2[0] + v1[1] * v2[1]\n",
        "    denominator = math.sqrt(v1[0] * v1[0] + v1[1] * v1[1]) * \\\n",
        "        math.sqrt(v2[0] * v2[0] + v2[1] * v2[1])\n",
        "    cos = round(numerator/denominator, 10)\n",
        "    angle = math.degrees(math.acos(cos))\n",
        "    return angle  # ?tinh cos nay khong the hien duoc goc tu` -> tinh\n",
        "\n",
        "#0 <=  max_angle <= 180\n",
        "# truong hop: max_angle < 180, max_angle = 180 ( 360, < 360)\n",
        "# objective: tu 1 diem -> xac dinh thu tu cac diem theo 1 vong tron\n",
        "\n",
        "    # vector[0] = 0 (vector by depot point & itself)\n",
        "for i in range(1, numberOfCustomers):\n",
        "    for j in range(i, numberOfCustomers):\n",
        "        angles[i][j] = getAngle(vector[i], vector[j])\n",
        "        # matrix angles: angle by customer i and customer j (numberOfCustomer x numberOfCustomer)\n",
        "        angles[j][i] = angles[i][j]\n",
        "        #vector[0], vector[j] = 0\n",
        "\n",
        "# Khởi tạo mảng chứa thời gian ước lượng từ gốc depot đến vị trí các khách hàng\n",
        "for i in range(1, numberOfCustomers):\n",
        "    # append thời gian\n",
        "    heuristicTime.append(timeOfDesToDes[0][i] + releaseDate[i])\n",
        "    # tính tổng\n",
        "    averageOfHeuristicTime += heuristicTime[-1]\n",
        "\n",
        "# Khời tạo giá trị trung bình\n",
        "averageOfHeuristicTime /= NUMBER_OF_TRUCKS\n",
        "# Khởi tạo phương sai\n",
        "variance = averageOfHeuristicTime / 5\n",
        "\n",
        "# chuyển đổi list sang array\n",
        "customerX = np.array(customerX)\n",
        "customerY = np.array(customerY)\n",
        "releaseDate = np.array(releaseDate)\n",
        "vector = np.array(vector)\n",
        "\n",
        "# Lấy 1 vị trí khách hàng ngẫu nhiên\n",
        "customerLocation = random.randint(1, numberOfCustomers - 1)\n",
        "\n",
        "# Lặp từ phần tử đầu đến kế cuối,\n",
        "# Vì khi đến phần tử cuối là đã sắp xếp thành công\n",
        "\n",
        "\n",
        "def getCustomerList(arr):\n",
        "    # Khởi tạo vị trí khách hàng\n",
        "    location = []\n",
        "    for i in range(0, numberOfCustomers):\n",
        "        location.append(i)\n",
        "    # Hoán đổi vị trí\n",
        "    for i in range(0, numberOfCustomers):\n",
        "        for j in range(i + 1, numberOfCustomers):\n",
        "            if (arr[i] > arr[j]):\n",
        "                # Hoán đổi giá trị\n",
        "                tmp = arr[i]\n",
        "                arr[i] = arr[j]\n",
        "                arr[j] = tmp\n",
        "                # hoán đổi vị trí\n",
        "                tmp = location[i]\n",
        "                location[i] = location[j]\n",
        "                location[j] = tmp\n",
        "    return location\n",
        "\n",
        "\n",
        "# Sắp xếp vị trí các khách hàng theo góc quay từ bé đến lớn\n",
        "# angles[7]: list of angles is created by vector(depot, customer_7) and other vectors ???\n",
        "locations = getCustomerList(angles[customerLocation])\n",
        "# and then sort them ?\n",
        "# issue: trường hợp tốt nhất các điểm customer ở xung quanh depot, sắp xếp theo angles giữa 1 điểm và các điểm còn lại thì thứ tự các điểm vẫn bị lộn xộn theo 2 phía của điểm được chọn ban đầu\n",
        "# -> correct: xây dựng location: xuất phát từ 1 điểm bất kì, điểm tiếp theo  = góc nhỏ nhất giữa điểm đang xét và tất cả các điểm còn lại\n",
        "\n",
        "\n",
        "# Cập nhật mảng đích đến\n",
        "count = NUMBER_OF_TRUCKS - 1\n",
        "lastIndex = 1\n",
        "for i in range(1, numberOfCustomers):\n",
        "    if (count > 0):\n",
        "        sum = 0\n",
        "        for j in range(lastIndex, i + 1):\n",
        "            sum += heuristicTime[locations[j]]\n",
        "        if (abs(sum - averageOfHeuristicTime) <= variance):\n",
        "            for k in range(lastIndex, i + 1):\n",
        "                destination.append(locations[k])\n",
        "            lastIndex = i + 1\n",
        "            destination.append(-1)\n",
        "            count -= 1\n",
        "\n",
        "\n",
        "for k in range(lastIndex, numberOfCustomers):\n",
        "    destination.append(locations[k])\n",
        "\n",
        "# Cập nhật mảng 2 chiều chứa các điểm đến của từng xe\n",
        "for location in destination:\n",
        "    if (location != -1):\n",
        "        truckDestinations[-1].append(location)\n",
        "    else:\n",
        "        truckDestinations.append([])\n",
        "del time_truck, time_drone, sum\n",
        "\n",
        "# Algorithm\n",
        "# Thiết lập mảng chứa các đoạn gen chưa hoàn chỉnh\n",
        "subGensTable = []\n",
        "for i in range(NUMBER_OF_TRUCKS):\n",
        "    subGensTable.append(getAllPermutations(truckDestinations[i]))\n",
        "\n",
        "# Thiết lập mảng chứa các gen hoàn chỉnh\n",
        "# Bảng gen drone\n",
        "gensDroneTable = []\n",
        "for i in range(LIMITED_GENS):\n",
        "    # Khởi tạo từng gen\n",
        "    gensDroneTable.append([])\n",
        "    for j in range(numberOfCustomers + NUMBER_OF_TRUCKS - 2):\n",
        "        # Lấy ngẫu nhiên 1 số từ 0 đến 1\n",
        "        randomNum = random.random()\n",
        "        # Đẩy vào mảng cuối cùng của bảng genes\n",
        "        gensDroneTable[-1].append(randomNum)\n",
        "# Bảng gen Trucks\n",
        "gensTable = []\n",
        "for i in range(LIMITED_GENS):\n",
        "    # Khởi tạo từng gen\n",
        "    gensTable.append([])\n",
        "    for subgen in subGensTable:\n",
        "        # Lấy ngẫu nhiên 1 đoạn gen\n",
        "        randomIndex = random.randint(0, len(subgen) - 1)\n",
        "        # Đẩy vào đoạn gen chưa hoàn chỉnh\n",
        "        gensTable[-1] += subgen[randomIndex] + [-1]\n",
        "    # Loại bỏ -1 ở cuối mảng\n",
        "    gensTable[-1].pop()\n"
      ]
    },
    {
      "cell_type": "code",
      "execution_count": 562,
      "metadata": {
        "colab": {
          "base_uri": "https://localhost:8080/",
          "height": 0
        },
        "id": "cFh5SrUIGN5T",
        "outputId": "6f6acf30-fb04-4b58-8cc5-bb276f84078c"
      },
      "outputs": [
        {
          "output_type": "display_data",
          "data": {
            "text/plain": [
              "<Figure size 432x288 with 1 Axes>"
            ],
            "image/png": "[encoded data removed]"
          },
          "metadata": {
            "needs_background": "light"
          }
        }
      ],
      "source": [
        "plt.plot(customerX, customerY, 'o')\n",
        "\n",
        "for i in range(len(customerX)):\n",
        "    label = i\n",
        "    plt.annotate(label, # this is the text\n",
        "                 (customerX[i],customerY[i]), # these are the coordinates to position the label\n",
        "                 textcoords=\"offset points\", # how to position the text\n",
        "                 xytext=(0,10), # distance from text to points (x,y)\n",
        "                 ha='center') # horizontal alignment can be left, right or center\n",
        "\n",
        "plt.arrow(customerX[0], customerY[0], customerX[1] -customerX[0], customerY[1] - customerY[0])\n",
        "plt.arrow(customerX[0], customerY[0], customerX[2] -customerX[0], customerY[2] - customerY[0])\n",
        "plt.arrow(customerX[0], customerY[0], customerX[5] -customerX[0], customerY[5] - customerY[0])\n",
        "plt.show()"
      ]
    },
    {
      "cell_type": "markdown",
      "metadata": {
        "id": "jaFbPK5XGRAo"
      },
      "source": [
        "# TSP-TW"
      ]
    },
    {
      "cell_type": "code",
      "execution_count": 563,
      "metadata": {
        "id": "OkbsIcU4GYga"
      },
      "outputs": [],
      "source": [
        "def fitness(timeDepotToCusByDrone, timeOfDesToDesByTruck, destination, gen_drone):  #version chưa tính đến số lượng drone \n",
        "  #split gene trucks_routing to list truck_routing\n",
        "  #modify gen_drone\n",
        "  truckDestinations = [[] for i in range(NUMBER_OF_TRUCKS) ]\n",
        "  gen_drone0 = [[] for i in range(NUMBER_OF_TRUCKS) ]\n",
        "  tmp=0\n",
        "  # print(destination)\n",
        "  for i in range(len(destination)):\n",
        "    if (destination[i] > 0):\n",
        "        truckDestinations[tmp].append(destination[i])\n",
        "        if (timeDepotToCusByDrone[destination[i]] != -1):\n",
        "          gen_drone0[tmp].append( int( gen_drone[i] >= 0.5) )\n",
        "        else:\n",
        "          gen_drone0[tmp].append(0)\n",
        "    else:\n",
        "        tmp += 1\n",
        "  del tmp\n",
        "  # print(truckDestinations)\n",
        "  # print(gen_drone0)\n",
        "  #\n",
        "  Tij =  timeOfDesToDesByTruck\n",
        "  service_time = 0\n",
        "\n",
        "  #Calculate Time_visit \n",
        "  Ti = [[] for i in range(NUMBER_OF_TRUCKS)]\n",
        "  for truck_i in range(NUMBER_OF_TRUCKS):\n",
        "    if len(truckDestinations[truck_i]) == 0:                            #truck k co job\n",
        "      Ti[truck_i].append(0)\n",
        "    else:\n",
        "      if gen_drone0[truck_i][0] == 0:                                    #check first visit by truck\n",
        "        i=1\n",
        "        while ( i < len(truckDestinations[truck_i])) and (gen_drone0[truck_i][i] == 0):\n",
        "          i = i + 1\n",
        "        Ti[truck_i].append(np.max(releaseDate[truckDestinations[truck_i][:i]]) + Tij[0][truckDestinations[truck_i][0]] )\n",
        "      else:\n",
        "        Ti[truck_i].append(Tij[0][truckDestinations[truck_i][0]])       #khoi tao T0\n",
        "\n",
        "      for i in range(len(truckDestinations[truck_i]) - 1):               \n",
        "        if gen_drone0[truck_i][i] == 0:                              #có đường đi của drone: check vị trí đó trên mảng drone\n",
        "          waitting_time = 0\n",
        "        else:\n",
        "          j=i+1\n",
        "          while( j < len(truckDestinations[truck_i]) ) and (gen_drone0[truck_i][j] == 0)  :\n",
        "            j = j+1\n",
        "          waitting_time = max(0, np.max(releaseDate[truckDestinations[truck_i][i:j]] )  - Ti[truck_i][-1] - service_time + timeDepotToCusByDrone[truckDestinations[truck_i][i]] )\n",
        "        Ti[truck_i].append(Ti[truck_i][-1] + service_time + waitting_time  + Tij[truckDestinations[truck_i][i]][truckDestinations[truck_i][i+1]] )\n",
        "      #add time truck return to depot\n",
        "      Ti[truck_i].append(Ti[truck_i][-1] + service_time + Tij[truckDestinations[truck_i][-1]][0])\n",
        "\n",
        "#    #Time_visit[0][j]: thoi gian truck 0 đến khach hang thu j+1 trong list khach hang can tham\n",
        "#    #khởi tạo Time_visit[0][0]:  thời gian truck 0 đến khách hàng thứ 1 trong list khách hàng mình cần đến \n",
        "#    #Time_visit[0][j] = Time_visit[0][j-1]  + waitting_time_tai_j + service_time + Truck_time[khach_hang_thu_j][khach hang_thu_j+1] \n",
        "          #gen_drone[0][j] = 1 : below\n",
        "          #gen_drone[0][j] = 0 : waitting_time_tai_j = 0\n",
        "#    #waitting_time_tai_j = max(0, max of releaseDate của những điểm tiếp theo truck cần phải đến thăm (giữa điểm khách hàng hiện tại và tiếp theo được resupply bởi drone) - Time_visit[0][j-1] - service_time + flying time )\n",
        "#             #giới hạn drone ->waitting_time: + thời gian chờ drone khác bay về depot + thời gian sạc của drone \n",
        "  \n",
        "  return 1/max(tv[-1] for tv in Ti)       #1/complete_time  (hour)\n",
        "  #return Ti             \n"
      ]
    },
    {
      "cell_type": "code",
      "execution_count": 564,
      "metadata": {
        "colab": {
          "base_uri": "https://localhost:8080/"
        },
        "id": "GObYBmxrGa7y",
        "outputId": "bb84f056-c124-423e-8cc8-7abfedce2185"
      },
      "outputs": [
        {
          "output_type": "stream",
          "name": "stdout",
          "text": [
            "0.00016307893020221786\n"
          ]
        }
      ],
      "source": [
        "print(fitness(timeDepotToCusByDrone, timeOfDesToDes, gensTable[8], gensDroneTable[8]))"
      ]
    },
    {
      "cell_type": "markdown",
      "metadata": {
        "id": "-WsC6apkmoK9"
      },
      "source": [
        "# CHỌN LỌC THEO ROULETTE"
      ]
    },
    {
      "cell_type": "code",
      "execution_count": 565,
      "metadata": {
        "id": "uJr4wbq9M4Ks"
      },
      "outputs": [],
      "source": [
        "import random\n",
        "def SelectionByRoulette(GensTruck, GensDrone):\n",
        "  F = 0 #tong do thich nghi cua quan the\n",
        "  q=0\n",
        "  ps =[] #xac suat lua chon ca the thu i\n",
        "  qs =[] #xac suat quy tich ca the thu i\n",
        "  # print(r)\n",
        "  selectGensDrone = []\n",
        "  selectGensTruck = [] # mang chua cac genTruck duoc chon\n",
        "                # ca the i duoc chon neu Qi-1 <= r <= Qi voi i > 1 hoac r <Q1 voi i = 1\n",
        "  fits = [] # mang luu tru do thich nghi cua tung ca the\n",
        "  #tinh do thich nghi cua tung ca the fits[i]\n",
        "  for i in range(len(GensTruck)):\n",
        "    f = fitness(timeDepotToCusByDrone, timeOfDesToDes, GensTruck[i], GensDrone[i])\n",
        "    fits.append(f)\n",
        "    F+=f\n",
        "  #print(min(fits))\n",
        "#  Lay ra gene có fitness tốt nhất\n",
        "  index1 = fits.index(max(fits))\n",
        "  selectGensTruck.append(GensTruck[index1])\n",
        "  selectGensDrone.append(GensDrone[index1])\n",
        "  GensTruck.pop(index1)\n",
        "  GensDrone.pop(index1)\n",
        "  #print(\"Gia tri tot nhat cua the he nay la\",fits[index1])\n",
        "  F -= fits[index1] \n",
        "  fits.pop(index1)\n",
        "  #chon ca the tot thu 2 cho vao the he sau\n",
        "  index2 = fits.index(max(fits))\n",
        "  selectGensTruck.append(GensTruck[index2])\n",
        "  selectGensDrone.append(GensDrone[index2])\n",
        "  GensTruck.pop(index2)\n",
        "  GensDrone.pop(index2)\n",
        "  F-=fits[index2]\n",
        "  fits.pop(index2)\n",
        "  # for fit in fits:\n",
        "  #   F += fit\n",
        "  # print(\"Độ dài \", len(fits))\n",
        "  #tinh do xac suat lua chon ca the thu i ps[i]\n",
        "  for i in range(len(fits)):\n",
        "    tg =round(fits[i]/F, 4)\n",
        "    ps.append(tg)\n",
        "  #tinh xac suat quy tich ca the thu i qs[i]\n",
        "  for p in ps:\n",
        "    q+= p\n",
        "    qs.append(q)\n",
        "      # print(\"=======\")\n",
        "  #chon loc ca the selections\n",
        "  while((len(selectGensTruck) <100)):\n",
        "    r = random.random() #lay ngau nhien so thuc r trong doan [0;1]\n",
        "    for i in range(len(qs)):\n",
        "      if(qs[0] > r):\n",
        "        selectGensTruck.append(GensTruck[i])\n",
        "        selectGensDrone.append(GensDrone[i])\n",
        "        break;\n",
        "      if((qs[i-1] < r) & (qs[i] > r)):\n",
        "        selectGensTruck.append(GensTruck[i])\n",
        "        selectGensDrone.append(GensDrone[i])\n",
        "        break;\n",
        "  fits.clear()\n",
        "  ps.clear()\n",
        "  qs.clear()\n",
        "  F=0\n",
        "  q=0\n",
        "#  print(len(selectGensDrone))\n",
        "  return selectGensTruck, selectGensDrone"
      ]
    },
    {
      "cell_type": "markdown",
      "metadata": {
        "id": "Q0JwI2_IO--U"
      },
      "source": [
        "# GA"
      ]
    },
    {
      "cell_type": "code",
      "execution_count": 566,
      "metadata": {
        "id": "EvIW1JlJPAuj"
      },
      "outputs": [],
      "source": [
        "def GA(GensTruck, GensDrone):\n",
        "  newGensTruck =[]\n",
        "  newGensDrone =[]\n",
        "  for i in range(len(GensTruck)):\n",
        "      # Lấy ngẫu nhiên 2 gen trong bảng gen\n",
        "      nextIndex = random.randint(0, len(GensTruck) - 1)\n",
        "      while (nextIndex == i):\n",
        "          nextIndex = random.randint(0, len(GensTruck) - 1)\n",
        "      # Lai ghép tạo gen mới\n",
        "      newGens = PMX_crossover(\n",
        "          GensTruck[i], GensTruck[nextIndex], GensDrone[i], GensDrone[nextIndex])\n",
        "      if newGens == 0:\n",
        "        return 0,0\n",
        "#check wrong gen\n",
        "      # count = 0\n",
        "      # for i in newGens[0]:\n",
        "      #     if (i == -1 ):\n",
        "      #         count += 1\n",
        "      # if (count ==(NUMBER_OF_TRUCKS -1 )):\n",
        "      #     newGensTruck.append(newGens[0])\n",
        "      #     newGensDrone.append(newGens[2])\n",
        "      # # else: \n",
        "      # #   print(newGens[0])\n",
        "      # count = 0\n",
        "      # for i in newGens[1]:\n",
        "      #     if (i == -1):\n",
        "      #         count += 1\n",
        "      # if (count ==(NUMBER_OF_TRUCKS -1 )):\n",
        "      #   newGensTruck.append(newGens[1])\n",
        "      #   newGensDrone.append(newGens[3])\n",
        "      #Đột biến tạo gen mới\n",
        "      rate_mutation = random.random()\n",
        "      if (rate_mutation <= 5/100):\n",
        "        newGens_mutation1 =  MutationSwap2Point(newGens[0], newGens[2])\n",
        "        newGens_mutation2 =  MutationSwap2Point(newGens[1], newGens[3])\n",
        "        newGensTruck.append(newGens_mutation1[0])\n",
        "        newGensDrone.append(newGens_mutation1[1])\n",
        "        newGensTruck.append(newGens_mutation2[0])\n",
        "        newGensDrone.append(newGens_mutation2[1])\n",
        "      else:\n",
        "        newGensTruck.append(newGens[0])\n",
        "        newGensDrone.append(newGens[2])\n",
        "        newGensTruck.append(newGens[1])\n",
        "        newGensDrone.append(newGens[3])\n",
        "        \n",
        "  gensTruck =[]\n",
        "  gensDrone =[]\n",
        "  gensTruck= GensTruck + newGensTruck\n",
        "  gensDrone = GensDrone + newGensDrone\n",
        "  # print(len(newGensTruck))\n",
        "  # print(len(newGensDrone))\n",
        "  return gensTruck, gensDrone"
      ]
    },
    {
      "cell_type": "markdown",
      "metadata": {
        "id": "zm4iFlexOeCb"
      },
      "source": [
        "# HIỂN THỊ KẾT QUẢ QUA MỖI THẾ HỆ"
      ]
    },
    {
      "cell_type": "code",
      "execution_count": 567,
      "metadata": {
        "id": "Cccn-pZaOdHD"
      },
      "outputs": [],
      "source": [
        "import numpy as np\n",
        "import matplotlib.pyplot as plt\n",
        "\n",
        "\n",
        "def ResultAfterEachGeneration(NumberOfGenerations):\n",
        "  j = 1\n",
        "  fit =[]\n",
        "  result =[]\n",
        "  genTruck_best = []\n",
        "  genDrone_best = []\n",
        "  gensTruck, gensDrone = gensTable, gensDroneTable\n",
        "  while(j <= NumberOfGenerations): \n",
        "    newGensTruck, newGensDrone = GA(gensTruck, gensDrone)\n",
        "    if newGensTruck == 0:\n",
        "      return 0\n",
        "    for k in range(len(newGensTruck)):\n",
        "      f = fitness(timeDepotToCusByDrone, timeOfDesToDes, newGensTruck[k], newGensDrone[k])\n",
        "      fit.append(f)\n",
        "    index1 = fit.index(max(fit))\n",
        "    result.append(1/fit[index1])\n",
        "\n",
        "    fit.clear()\n",
        "    gensTruck, gensDrone = SelectionByRoulette(newGensTruck, newGensDrone)\n",
        "    j+=1\n",
        "  return result\n",
        "  \n"
      ]
    },
    {
      "cell_type": "markdown",
      "source": [
        "# Result"
      ],
      "metadata": {
        "id": "9rVIfkET-nDh"
      }
    },
    {
      "cell_type": "code",
      "execution_count": 568,
      "metadata": {
        "colab": {
          "base_uri": "https://localhost:8080/",
          "height": 330
        },
        "id": "y5KugXy4gjA_",
        "outputId": "68cbddcd-f915-4a19-8b35-34860cbe08fa"
      },
      "outputs": [
        {
          "output_type": "stream",
          "name": "stdout",
          "text": [
            "--- Time Excution --- 91.20848321914673\n"
          ]
        },
        {
          "output_type": "execute_result",
          "data": {
            "text/plain": [
              "Text(0.5, 1.0, 'Completion Time each Generations')"
            ]
          },
          "metadata": {},
          "execution_count": 568
        },
        {
          "output_type": "display_data",
          "data": {
            "text/plain": [
              "<Figure size 432x288 with 1 Axes>"
            ],
            "image/png": "[encoded data removed]"
          },
          "metadata": {
            "needs_background": "light"
          }
        }
      ],
      "source": [
        "NumberOfGenerations = 500\n",
        "results = ResultAfterEachGeneration(NumberOfGenerations)\n",
        "print(\"--- Time Excution ---\", (time.time() - start_time))\n",
        "plt.plot(list(range(1,NumberOfGenerations+1 )),results)\n",
        "plt.ylabel(\"Minutes\")\n",
        "plt.xlabel(\"Generations\")\n",
        "plt.title(\"Completion Time each Generations\")"
      ]
    },
    {
      "cell_type": "code",
      "execution_count": 569,
      "metadata": {
        "id": "aqSed_aBQkZi"
      },
      "outputs": [],
      "source": [
        "#ve duong di cac truck, drone\n",
        "#gen truck split, gen drone"
      ]
    }
  ],
  "metadata": {
    "colab": {
      "provenance": [],
      "collapsed_sections": [
        "uy_BEPE5F_uT",
        "xfBFlotjomKa",
        "uwgLPsULLyqk",
        "JvE6hvu-oulQ",
        "da-loYwwGIDZ",
        "jaFbPK5XGRAo",
        "-WsC6apkmoK9",
        "Q0JwI2_IO--U",
        "zm4iFlexOeCb"
      ],
      "include_colab_link": true
    },
    "kernelspec": {
      "display_name": "Python 3",
      "name": "python3"
    },
    "language_info": {
      "name": "python"
    }
  },
  "nbformat": 4,
  "nbformat_minor": 0
}
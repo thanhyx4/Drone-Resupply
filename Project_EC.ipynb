{
  "nbformat": 4,
  "nbformat_minor": 0,
  "metadata": {
    "colab": {
      "provenance": [],
      "authorship_tag": "ABX9TyNkFVuUBXFUHf0h0VLBzUAH",
      "include_colab_link": true
    },
    "kernelspec": {
      "name": "python3",
      "display_name": "Python 3"
    },
    "language_info": {
      "name": "python"
    }
  },
  "cells": [
    {
      "cell_type": "markdown",
      "metadata": {
        "id": "view-in-github",
        "colab_type": "text"
      },
      "source": [
        "<a href=\"https://colab.research.google.com/github/thanhyx4/Drone-Resupply/blob/main/Project_EC.ipynb\" target=\"_parent\"><img src=\"https://colab.research.google.com/assets/colab-badge.svg\" alt=\"Open In Colab\"/></a>"
      ]
    },
    {
      "cell_type": "code",
      "source": [
        "import copy\n",
        "import math\n",
        "import time\n",
        "import numpy as np\n",
        "import pandas as pd\n",
        "import random\n",
        "import matplotlib.pyplot as plt\n",
        "%matplotlib inline"
      ],
      "metadata": {
        "id": "ir_71yid9crM"
      },
      "execution_count": 50,
      "outputs": []
    },
    {
      "cell_type": "code",
      "execution_count": 51,
      "metadata": {
        "id": "DneqfNxCEDog",
        "colab": {
          "base_uri": "https://localhost:8080/"
        },
        "outputId": "dd46ad25-0e54-4c17-aee9-d9fe0a5ebca5"
      },
      "outputs": [
        {
          "output_type": "stream",
          "name": "stdout",
          "text": [
            "Drive already mounted at /content/drive; to attempt to forcibly remount, call drive.mount(\"/content/drive\", force_remount=True).\n"
          ]
        }
      ],
      "source": [
        "from google.colab import drive\n",
        "drive.mount('/content/drive')"
      ]
    },
    {
      "cell_type": "code",
      "source": [
        "with open('/content/drive/My Drive/Colab Notebooks/DataPrj_EC/R101_2.5.dat', 'r') as f:\n",
        "  file1 = []\n",
        "  for line in f:\n",
        "    file1.append(line)\n",
        "\n",
        "#!cat /content/drive/My\\ Colab Notebooks/DataPrj_EC/C101_1.5.dat"
      ],
      "metadata": {
        "id": "rdeED95jFHJS"
      },
      "execution_count": 52,
      "outputs": []
    },
    {
      "cell_type": "code",
      "source": [
        "#N customers, H trucks, K drones, X toa do, Y toa do, D tap kh co the duoc tham boi drone, W - release date\n"
      ],
      "metadata": {
        "id": "5YfuMjpi3opV"
      },
      "execution_count": 53,
      "outputs": []
    },
    {
      "cell_type": "markdown",
      "source": [
        "#Read data"
      ],
      "metadata": {
        "id": "FAwNnKGbFcmf"
      }
    },
    {
      "cell_type": "code",
      "source": [
        "def readData(file1):\n",
        "  num_customers = int(file1[0].split()[1])  - 1       #except depot\n",
        "  num_trucks = 2\n",
        "  num_drones = int(file1[2].split()[1])\n",
        "  listX = []\n",
        "  listY = []\n",
        "  W = []\n",
        "  for i in range(5,5+num_customers):\n",
        "    line_i = file1[i].split()\n",
        "    listX.append(line_i[0])\n",
        "    listY.append(line_i[1])\n",
        "    W.append(line_i[6])\n",
        "  return listX, listY, W\n",
        "\n",
        "X, Y, W = readData(file1)           #\n",
        "X = np.array(X, dtype=int)\n",
        "Y = np.array(Y, dtype =int)\n",
        "W = np.array(W, dtype = int)"
      ],
      "metadata": {
        "id": "Zjs6c31FGxth"
      },
      "execution_count": 54,
      "outputs": []
    },
    {
      "cell_type": "markdown",
      "source": [
        "# Init Solution"
      ],
      "metadata": {
        "id": "xiCWBwOUFiJT"
      }
    },
    {
      "cell_type": "code",
      "source": [
        "# Hằng số\n",
        "NUMBER_OF_TRUCKS = 3\n",
        "NUMBER_OF_DRONES = 3\n",
        "TRUCK_SPEED = 30  # km/h\n",
        "DRONE_SPEED = TRUCK_SPEED * 1.5\n",
        "DRONE_LIMIT_TIME = 15  # phút\n",
        "N = 6  # Lấy dữ liệu từ dòng số 6\n",
        "LIMITED_GENS = 50  # Số lượng gen giới hạn\n",
        "\n",
        "# Lấy mảng chứa các dòng dữ liệu trong file\n",
        "#lines = file.readFollowingLines(N)\n",
        "lines = file1[5:]\n",
        "\n",
        "# Khởi báo các biến\n",
        "numberOfTrucks = NUMBER_OF_TRUCKS  # số lượng xe tải\n",
        "numberOfCustomers = len(lines)                                                                          # số lượng khách hàng + 1\n",
        "numberOfDrones = NUMBER_OF_DRONES  # số lượng drone\n",
        "customerX = []  # Lưu trữ hoành độ của các khách hàng\n",
        "customerY = []  # Lưu trữ tung độ của các khách hàng\n",
        "releaseDate = []  # Lưu thời gian sản phẩm sẵn sàng của các khách hàng\n",
        "vector = []  # vector nối các depot với các vị trí khách hàng\n",
        "angles = np.zeros((numberOfCustomers, numberOfCustomers)\n",
        "                  )  # chứa góc các vector với nhau\n",
        "# Mảng chứa thời gian bay của drone đến các vị trí khách hàng\n",
        "# Nếu vị trí khách hàng nằm ngoài khoảng bay được của drone -> gán -1\n",
        "timeDepotToCusByDrone = []\n",
        "# mảng chứa tổng thời gian từ depot đến vị trí khách hàng và release date\n",
        "heuristicTime = [0]\n",
        "# Trung bình (Thời gian từ depot đến vị trí các khách hàng + release date)\n",
        "averageOfHeuristicTime = 0\n",
        "# Mảng chứa vị trí các khách hàng đến thăm của từng xe tải\n",
        "destination = []\n",
        "# Mảng chứa điểm đến của các xe tải\n",
        "truckDestinations = [[]]\n",
        "# Phương sai\n",
        "variance = 0\n",
        "# Mảng chứa các thời gian di chuyển của truck giữa các điểm\n",
        "timeOfDesToDes = np.zeros((numberOfCustomers, numberOfCustomers))\n",
        "\n",
        "# Khởi tạo các biến\n",
        "for line in lines:\n",
        "    lineNum = line.split()\n",
        "    customerX.append(int(lineNum[0]))  # customerX[0] : depot\n",
        "    customerY.append(int(lineNum[1]))\n",
        "    releaseDate.append(int(lineNum[-1]))\n",
        "    # khởi tạo vector tạo bởi all data point (include depot point) and depot\n",
        "    vector.append([customerX[-1] - customerX[0], customerY[-1] - customerY[0]])                       #vector by depot point and all data point (include depot)\n",
        "\n",
        "# Khởi tạo mảng chứa các thời gian di chuyển của truck giữa các điểm\n",
        "for i in range(0, numberOfCustomers):\n",
        "    for j in range(i + 1, numberOfCustomers):\n",
        "        # Tinh khoang cach theo mahattan\n",
        "        distance = abs(customerX[i] - customerY[i]) + \\\n",
        "            abs(customerX[j] - customerY[j])\n",
        "        # t = s / v\n",
        "        time = distance / TRUCK_SPEED\n",
        "        timeOfDesToDes[i][j] = timeOfDesToDes[j][i] = time * 60                                     #Truck_time all data point\n",
        "\n",
        "# khởi tạo mảng chứa thời gian bay của drone\n",
        "for arr in vector:\n",
        "    # Tính khoảng cách theo eclip\n",
        "    distance = math.sqrt(arr[0] * arr[0] + arr[1] * arr[1])\n",
        "    # Tính thời gian\n",
        "    time = distance / DRONE_SPEED * 60  # đổi ra phút\n",
        "    # Kiểm tra giới hạn bay\n",
        "    if (time <= DRONE_LIMIT_TIME):\n",
        "        timeDepotToCusByDrone.append(time)\n",
        "    else:\n",
        "        timeDepotToCusByDrone.append(-1)                                                          #flying time: include depot to depot\n",
        "\n",
        "# Khởi tạo mảng các góc giữa các vector\n",
        "\n",
        "\n",
        "def getAngle(v1, v2):\n",
        "    numerator = v1[0] * v2[0] + v1[1] * v2[1]\n",
        "    denominator = math.sqrt(v1[0] * v1[0] + v1[1] * v1[1]) * \\\n",
        "        math.sqrt(v2[0] * v2[0] + v2[1] * v2[1])\n",
        "    cos = round(numerator/denominator, 10)\n",
        "    angle = math.degrees(math.acos(cos))\n",
        "    return angle                                                                  #?tinh cos nay khong the hien duoc goc tu` -> tinh\n",
        "\n",
        "#0 <=  max_angle <= 180 \n",
        "# truong hop: max_angle < 180, max_angle = 180 ( 360, < 360)\n",
        "#objective: tu 1 diem -> xac dinh thu tu cac diem theo 1 vong tron\n",
        "\n",
        "\n",
        "                                                         # vector[0] = 0 (vector by depot point & itself)\n",
        "for i in range(1, numberOfCustomers):\n",
        "    for j in range(i, numberOfCustomers):\n",
        "        angles[i][j] = getAngle(vector[i], vector[j])\n",
        "                                                         # matrix angles: angle by customer i and customer j (numberOfCustomer x numberOfCustomer)\n",
        "        angles[j][i] = angles[i][j]\n",
        "                                                                   #vector[0], vector[j] = 0\n",
        "\n",
        "# Khởi tạo mảng chứa thời gian ước lượng từ gốc depot đến vị trí các khách hàng\n",
        "for i in range(1, numberOfCustomers):\n",
        "    # append thời gian\n",
        "    heuristicTime.append(timeOfDesToDes[0][i] + releaseDate[i])\n",
        "    # tính tổng\n",
        "    averageOfHeuristicTime += heuristicTime[-1]\n",
        "\n",
        "# Khời tạo giá trị trung bình\n",
        "averageOfHeuristicTime /= NUMBER_OF_TRUCKS\n",
        "# Khởi tạo phương sai\n",
        "variance = averageOfHeuristicTime / 5\n",
        "\n",
        "# chuyển đổi list sang array\n",
        "customerX = np.array(customerX)\n",
        "customerY = np.array(customerY)\n",
        "releaseDate = np.array(releaseDate)\n",
        "vector = np.array(vector)\n",
        "\n",
        "# Lấy 1 vị trí khách hàng ngẫu nhiên\n",
        "customerLocation = random.randint(1, numberOfCustomers - 1)\n",
        "\n",
        "# Lặp từ phần tử đầu đến kế cuối,\n",
        "# Vì khi đến phần tử cuối là đã sắp xếp thành công\n",
        "\n",
        "\n",
        "def getCustomerList(arr):\n",
        "    # Khởi tạo vị trí khách hàng\n",
        "    location = []\n",
        "    for i in range(0, numberOfCustomers):\n",
        "        location.append(i)\n",
        "    # Hoán đổi vị trí\n",
        "    for i in range(0, numberOfCustomers):\n",
        "        for j in range(i + 1, numberOfCustomers):\n",
        "            if (arr[i] > arr[j]):\n",
        "                # Hoán đổi giá trị\n",
        "                tmp = arr[i]\n",
        "                arr[i] = arr[j]\n",
        "                arr[j] = tmp\n",
        "                # hoán đổi vị trí\n",
        "                tmp = location[i]\n",
        "                location[i] = location[j]\n",
        "                location[j] = tmp\n",
        "    return location\n",
        "\n",
        "\n",
        "# Sắp xếp vị trí các khách hàng theo góc quay từ bé đến lớn\n",
        "# angles[7]: list of angles is created by vector(depot, customer_7) and other vectors ???\n",
        "locations = getCustomerList(angles[customerLocation])\n",
        "# and then sort them ?\n",
        "# issue: trường hợp tốt nhất các điểm customer ở xung quanh depot, sắp xếp theo angles giữa 1 điểm và các điểm còn lại thì thứ tự các điểm vẫn bị lộn xộn theo 2 phía của điểm được chọn ban đầu\n",
        "# -> correct: xây dựng location: xuất phát từ 1 điểm bất kì, điểm tiếp theo  = góc nhỏ nhất giữa điểm đang xét và tất cả các điểm còn lại\n",
        "\n",
        "\n",
        "# Cập nhật mảng đích đến\n",
        "count = NUMBER_OF_TRUCKS - 1\n",
        "lastIndex = 1\n",
        "for i in range(1, numberOfCustomers):\n",
        "    if (count > 0):\n",
        "        sum = 0\n",
        "        for j in range(lastIndex, i + 1):\n",
        "            sum += heuristicTime[locations[j]]\n",
        "        if (abs(sum - averageOfHeuristicTime) <= variance):\n",
        "            for k in range(lastIndex, i + 1):\n",
        "                destination.append(locations[k])\n",
        "            lastIndex = i + 1\n",
        "            destination.append(-1)\n",
        "            count -= 1\n",
        "\n",
        "for k in range(lastIndex, numberOfCustomers):\n",
        "    destination.append(locations[k])\n",
        "print(destination)\n",
        "\n",
        "# Cập nhật mảng 2 chiều chứa các điểm đến của từng xe\n",
        "for location in destination:\n",
        "    if (location != -1):\n",
        "        truckDestinations[-1].append(location)\n",
        "    else:\n",
        "        truckDestinations.append([])\n",
        "\n",
        "print(truckDestinations, '\\n')\n",
        "\n",
        "# # Algorithm\n",
        "# # Thiết lập mảng chứa các đoạn gen chưa hoàn chỉnh\n",
        "# subGensTable = []\n",
        "# for i in range(NUMBER_OF_TRUCKS):\n",
        "#     subGensTable.append(commonFunc.getAllPermutations(truckDestinations[i]))\n",
        "\n",
        "# # Thiết lập mảng chứa các gen hoàn chỉnh\n",
        "# print(\"=== Bảng gen ===\")\n",
        "# gensTable = []\n",
        "# for i in range(LIMITED_GENS):\n",
        "#     # Khởi tạo từng gen\n",
        "#     gensTable.append([])\n",
        "#     for subgen in subGensTable:\n",
        "#         # Lấy ngẫu nhiên 1 đoạn gen\n",
        "#         randomIndex = random.randint(0, len(subgen) - 1)\n",
        "#         # Đẩy vào đoạn gen chưa hoàn chỉnh\n",
        "#         gensTable[-1] += subgen[randomIndex] + [-1]\n",
        "#     # Loại bỏ -1 ở cuối mảng\n",
        "#     gensTable[-1].pop()\n",
        "#     # show từng dòng\n",
        "#     print(gensTable[-1])\n",
        "\n",
        "# # Tạo bảng gen mới\n",
        "# newGensTable = []\n",
        "# for i in range(LIMITED_GENS):\n",
        "#     # Lấy ngẫu nhiên 2 gen trong bảng gen\n",
        "#     nextIndex = random.randint(0, LIMITED_GENS - 1)\n",
        "#     while (nextIndex == i):\n",
        "#         nextIndex = random.randint(0, LIMITED_GENS - 1)\n",
        "#     # Lai ghép tạo gen mới\n",
        "#     newGens = algorithm.PMX_crossover(\n",
        "#         gensTable[i], gensTable[nextIndex])\n",
        "#     newGensTable.append(newGens[0])\n",
        "#     newGensTable.append(newGens[1])\n",
        "\n",
        "# print(\"\\n=== Bảng gen mới ===\")\n",
        "# for gen in newGensTable:\n",
        "#     print(gen)"
      ],
      "metadata": {
        "colab": {
          "base_uri": "https://localhost:8080/"
        },
        "id": "SkT9bWqFiFDW",
        "outputId": "235e3b44-6fa4-4b99-edc7-c77c3f2d5844"
      },
      "execution_count": 55,
      "outputs": [
        {
          "output_type": "stream",
          "name": "stdout",
          "text": [
            "[27, 32, 30, 10, 31, 20, 1, 11, 19, 9, 49, 35, 7, 50, 33, -1, 47, 48, 36, 34, 3, 46, 18, 28, 8, 29, 45, 12, -1, 24, 17, 5, 25, 26, 6, 16, 4, 44, 39, 37, 38, 14, 23, 21, 40, 13, 42, 22, 43, 41, 15, 2]\n",
            "[[27, 32, 30, 10, 31, 20, 1, 11, 19, 9, 49, 35, 7, 50, 33], [47, 48, 36, 34, 3, 46, 18, 28, 8, 29, 45, 12], [24, 17, 5, 25, 26, 6, 16, 4, 44, 39, 37, 38, 14, 23, 21, 40, 13, 42, 22, 43, 41, 15, 2]] \n",
            "\n"
          ]
        }
      ]
    },
    {
      "cell_type": "code",
      "source": [
        "plt.plot(customerX, customerY, 'o')\n",
        "\n",
        "for i in range(len(customerX)):\n",
        "    label = i\n",
        "    plt.annotate(label, # this is the text\n",
        "                 (customerX[i],customerY[i]), # these are the coordinates to position the label\n",
        "                 textcoords=\"offset points\", # how to position the text\n",
        "                 xytext=(0,10), # distance from text to points (x,y)\n",
        "                 ha='center') # horizontal alignment can be left, right or center\n",
        "\n",
        "plt.arrow(customerX[0], customerY[0], customerX[1] -customerX[0], customerY[1] - customerY[0])\n",
        "plt.arrow(customerX[0], customerY[0], customerX[2] -customerX[0], customerY[2] - customerY[0])\n",
        "plt.arrow(customerX[0], customerY[0], customerX[5] -customerX[0], customerY[5] - customerY[0])\n",
        "plt.show()"
      ],
      "metadata": {
        "colab": {
          "base_uri": "https://localhost:8080/",
          "height": 273
        },
        "id": "Uiaf-trHtGt0",
        "outputId": "468027cb-2e99-4d72-fb9e-791311137c76"
      },
      "execution_count": 56,
      "outputs": [
        {
          "output_type": "display_data",
          "data": {
            "text/plain": [
              "<Figure size 432x288 with 1 Axes>"
            ],
            "image/png": "[encoded data removed]"
          },
          "metadata": {
            "needs_background": "light"
          }
        }
      ]
    },
    {
      "cell_type": "markdown",
      "source": [
        "# TSP-TW"
      ],
      "metadata": {
        "id": "2v50M8thFuvY"
      }
    },
    {
      "cell_type": "code",
      "source": [
        "# print('truck time', timeOfDesToDes)\n",
        "# print('flying time', timeDepotToCusByDrone[1:])\n",
        "# print('Ei', type(Ei), Ei)\n",
        "# print('truck des', truckDestinations)\n",
        "# print('Ehi', Ehi)\n",
        "# print('Ehi0', Ehi0)\n",
        "# print('index_Ehi0', index_Ehi0)"
      ],
      "metadata": {
        "id": "Jr0vqbJSB_ZR"
      },
      "execution_count": 57,
      "outputs": []
    },
    {
      "cell_type": "code",
      "source": [
        "service_time = 0\n",
        "\n",
        "Tij =  timeOfDesToDes             #the truck travel time\n",
        "Dj = timeDepotToCusByDrone             #the flying time of drone,\n",
        "Ei = timeDepotToCusByDrone + releaseDate                 #earliest time at the node i ( Release date + flying time)        #?data points out of drone's zone\n",
        "              #truong hop Ei = -1 -> chinh flying time of data point which is out of drone's zone -> 0 ???\n",
        "\n",
        "Ah = truckDestinations            #Ah[h] list customer the truck h need to visit\n",
        "\n",
        "Ehi = []          # Ehi[h] - list earlist time correspond to list customer Ah[h] ( goc h )\n",
        "for i in range(len(Ah)):\n",
        "  Ehi.append( list( Ei[[j for j in Ah[i]]] ) )\n",
        "\n",
        "\n",
        "#prepare\n",
        "Ehi0 = copy.deepcopy(Ehi)\n",
        "\n",
        "for i in range(len(Ehi0)):\n",
        "  Ehi0[i].sort()\n",
        "index_Ehi0 = [[]for i in range(NUMBER_OF_TRUCKS)]\n",
        "for i in range(NUMBER_OF_TRUCKS):\n",
        "  for j in range(len(Ehi0[i])):\n",
        "    for k in range(len(Ehi0[i])):                   \n",
        "      if(Ehi0[i][j] == Ehi[i][k]) and (Ah[i][k] not in index_Ehi0[i] ) :\n",
        "        index_Ehi0[i].append(Ah[i][k])\n",
        "        break\n",
        "\n",
        "# Ti = [[]]\n",
        "# # Ehi0[h] sorted list, Ehi[h], Ah[h]\n",
        "# #index_Ehi0[h] la khach hang tuong ung voi Ah[h]\n",
        "# #service time\n",
        "\n",
        "# def fitness( Ah):\n",
        "#   Ti = [[] for i in range(NUMBER_OF_TRUCKS) ]\n",
        "\n",
        "#   if :\n",
        "#     Ti[0].append('')\n",
        "\n",
        "#   #list_customer need to visit and release date and truck_time, flying time btw that points\n",
        "#   return\n",
        "\n",
        "# #greedy init\n",
        "# count = 0\n",
        "# Ti[0].append(Tij[0,index_Ehi0[0][0]])         #thoi gian truck toi khach hang thu j+ 1: Ti[i][j]\n",
        "# for q in range(len(Ehi0[0]) - 2):\n",
        "#   # xet khach hang tiep theo, neu trong kc bay cua drone :\n",
        "#   qTi[0].append(max(Ti[0][q], Ehi0[0][q]) + service_time + Tij[index_Ehi0[0][q]][index_Ehi0[0][q+1]]  )\n",
        "\n"
      ],
      "metadata": {
        "id": "SE9ASm-DMYKk"
      },
      "execution_count": 58,
      "outputs": []
    },
    {
      "cell_type": "code",
      "source": [
        "def fitness(timeDepotToCusByDrone, timeOfDesToDesByTruck, destination, gen_drone):  #version chưa tính đến số lượng drone \n",
        "  #split gene trucks_routing to list truck_routing\n",
        "  truckDestinations = [[] for i in range(NUMBER_OF_TRUCKS) ]\n",
        "  tmp=0\n",
        "  for location in destination:\n",
        "    if (location != -1):\n",
        "        truckDestinations[tmp].append(location)\n",
        "    else:\n",
        "        tmp += 1\n",
        "  del tmp\n",
        "  \n",
        "  #modify gen_drone\n",
        "  gen_drone1 = [int(i >=0.5) for i in gen_drone]\n",
        "  gen_drone2 = []\n",
        "  for i in range(numberOfCustomers):\n",
        "    if i == 0:\n",
        "      gen_drone2.append(0) \n",
        "    if timeDepotToCusByDrone[i] == -1:\n",
        "      gen_drone2.append(0)\n",
        "    else: \n",
        "      gen_drone2.append(gen_drone1[i-1])\n",
        "  del gen_drone1\n",
        "\n",
        "  Tij =  timeOfDesToDesByTruck\n",
        "  service_time = 0\n",
        "  index_Ehi0 = copy.deepcopy(truckDestinations)\n",
        "  \n",
        "  #Calculate Time_visit \n",
        "  Ti = [[] for i in range(NUMBER_OF_TRUCKS)]\n",
        "  for truck_i in range(NUMBER_OF_TRUCKS):\n",
        "    if len(index_Ehi0[truck_i]) == 0:\n",
        "      Ti[truck_i].append(0)\n",
        "    else:\n",
        "      if gen_drone2[index_Ehi0[truck_i][0]] == -1:                                    #check first visit by truck\n",
        "        i=1\n",
        "        while ( i < len(index_Ehi0[truck_i])) and (gen_drone2[index_Ehi0[truck_i][i]] == -1):\n",
        "          i = i + 1\n",
        "        Ti[truck_i].append(np.max(releaseDate[index_Ehi0[truck_i][:i]]) + Tij[0][index_Ehi0[truck_i][0]] )\n",
        "      else:\n",
        "        Ti[truck_i].append(Tij[0][index_Ehi0[truck_i][0]])       #khoi tao T0\n",
        "\n",
        "      for i in range(len(index_Ehi0[truck_i]) - 1):               \n",
        "        if gen_drone2[index_Ehi0[truck_i][i]] == -1:                              #có đường đi của drone: check vị trí đó trên mảng drone\n",
        "          waitting_time = 0\n",
        "        else:\n",
        "          j=i+1\n",
        "          while( j < len(index_Ehi0[truck_i]) ) and (gen_drone2[index_Ehi0[truck_i][j]] == -1)  :\n",
        "            j = j+1\n",
        "          waitting_time = max(0, np.max(releaseDate[index_Ehi0[truck_i][i:j]] )  - Ti[truck_i][-1] - service_time) + timeDepotToCusByDrone[index_Ehi0[truck_i][i]] \n",
        "        Ti[truck_i].append(Ti[truck_i][-1] + service_time + waitting_time  + Tij[index_Ehi0[truck_i][i]][index_Ehi0[truck_i][i+1]] )\n",
        "      #add time truck return to depot\n",
        "      Ti[truck_i].append(Ti[truck_i][-1] + service_time + Tij[index_Ehi0[truck_i][-1]][0])\n",
        "\n",
        "#    #Time_visit[0][j]: thoi gian truck 0 đến khach hang thu j+1 trong list khach hang can tham\n",
        "#    #khởi tạo Time_visit[0][0]:  thời gian truck 0 đến khách hàng thứ 1 trong list khách hàng mình cần đến \n",
        "#    #Time_visit[0][j] = Time_visit[0][j-1]  + watting_time_tai_j + service_time + Truck_time[khach_hang_thu_j][khach hang_thu_j+1]   \n",
        "#    #waitting_time = max(0, releaseDate của những điểm tiếp theo truck cần phải đến thăm (giữa 2 điểm khách hàng được resupply bởi drone)) + flying time\n",
        "#             #giới hạn drone ->waitting_time: + thời gian chờ drone khác bay về depot + thời gian sạc của drone \n",
        "  \n",
        "  #return 60/max(tv[-1] for tv in Ti)       #1/complete_time  (hour)\n",
        "  return Ti             \n"
      ],
      "metadata": {
        "id": "ML9qfeFtGiEi"
      },
      "execution_count": 59,
      "outputs": []
    },
    {
      "cell_type": "code",
      "source": [
        "gen_drone = np.random.rand(numberOfCustomers-1)\n",
        "print(fitness(timeDepotToCusByDrone, timeOfDesToDes, destination, gen_drone))"
      ],
      "metadata": {
        "colab": {
          "base_uri": "https://localhost:8080/"
        },
        "id": "4G8Ld0rOKjSk",
        "outputId": "5d2a77c4-7601-4e7b-b635-60b8d89ec5ff"
      },
      "execution_count": 60,
      "outputs": [
        {
          "output_type": "stream",
          "name": "stdout",
          "text": [
            "[[10.0, 1030.6666666666665, 1191.0, 1290.0, 1391.0, 1472.0, 1527.0, 1632.0, 1811.0, 1910.0, 2043.0, 2170.0, 2233.0, 2292.0, 2293.0, 2295.0], [96.0, 901.0, 1111.0, 1246.0, 1285.0, 1396.0, 1527.0, 1574.0, 1656.4327404271157, 1765.4327404271157, 1872.4327404271157, 1965.4327404271157, 1995.4327404271157], [60.0, 601.0, 907.0, 1026.0, 1145.0, 1199.9071198499987, 1244.8142396999974, 1333.8142396999974, 1408.8142396999974, 1509.8142396999974, 1604.8142396999974, 1603.8142396999974, 1612.8142396999974, 1721.8142396999974, 1870.8142396999974, 1949.8142396999974, 2004.7213595499961, 2053.628479399995, 2146.628479399995, 2255.628479399995, 2364.628479399995, 2483.628479399995, 2568.628479399995, 2604.628479399995]]\n"
          ]
        }
      ]
    },
    {
      "cell_type": "code",
      "source": [
        "print(destination)\n",
        "test1 = [-1,27, 32, 30, 10, 31, 20, 1, 11, 19, 9, 49, 35, 7, 50, 33, 47, 48, 36, 34, 3, 46, 18, 28, 8, 29, 45, 12, -1, 24, 17, 5, 25, 26, 6, 16, 4, 44, 39, 37, 38, 14, 23, 21, 40, 13, 42, 22, 43, 41, 15, 2]\n",
        "print(fitness(timeDepotToCusByDrone, timeOfDesToDes, test1, gen_drone))"
      ],
      "metadata": {
        "colab": {
          "base_uri": "https://localhost:8080/"
        },
        "id": "x5ISTqlY-jDW",
        "outputId": "283360c8-d224-47ce-d065-9ceea4a9db45"
      },
      "execution_count": 64,
      "outputs": [
        {
          "output_type": "stream",
          "name": "stdout",
          "text": [
            "[27, 32, 30, 10, 31, 20, 1, 11, 19, 9, 49, 35, 7, 50, 33, -1, 47, 48, 36, 34, 3, 46, 18, 28, 8, 29, 45, 12, -1, 24, 17, 5, 25, 26, 6, 16, 4, 44, 39, 37, 38, 14, 23, 21, 40, 13, 42, 22, 43, 41, 15, 2]\n",
            "[[0], [10.0, 1030.6666666666665, 1191.0, 1290.0, 1391.0, 1472.0, 1527.0, 1632.0, 1811.0, 1910.0, 2043.0, 2170.0, 2233.0, 2292.0, 2293.0, 2390.0, 2563.0, 2756.0, 2891.0, 2930.0, 3041.0, 3172.0, 3219.0, 3301.4327404271157, 3410.4327404271157, 3517.4327404271157, 3610.4327404271157, 3640.4327404271157], [60.0, 601.0, 907.0, 1026.0, 1145.0, 1199.9071198499987, 1244.8142396999974, 1333.8142396999974, 1408.8142396999974, 1509.8142396999974, 1604.8142396999974, 1603.8142396999974, 1612.8142396999974, 1721.8142396999974, 1870.8142396999974, 1949.8142396999974, 2004.7213595499961, 2053.628479399995, 2146.628479399995, 2255.628479399995, 2364.628479399995, 2483.628479399995, 2568.628479399995, 2604.628479399995]]\n"
          ]
        }
      ]
    },
    {
      "cell_type": "code",
      "source": [
        "gen_drone1 = [int(i >=0.5) for i in gen_drone]\n",
        "gen_drone2 = []\n",
        "for i in range(numberOfCustomers):\n",
        "    if i == 0:\n",
        "      gen_drone2.append(0) \n",
        "    if timeDepotToCusByDrone[i] == -1:\n",
        "      gen_drone2.append(0)\n",
        "    else: \n",
        "      gen_drone2.append(gen_drone1[i-1])\n",
        "\n",
        "print(gen_drone) \n",
        "print(timeDepotToCusByDrone)\n",
        "print(gen_drone1)"
      ],
      "metadata": {
        "id": "rIz1pWXU62U_",
        "colab": {
          "base_uri": "https://localhost:8080/"
        },
        "outputId": "a6d4f93b-44bd-4dec-f039-1e4e49f5fc36"
      },
      "execution_count": 65,
      "outputs": [
        {
          "output_type": "stream",
          "name": "stdout",
          "text": [
            "[0.06086895 0.35490946 0.15676663 0.58130812 0.21201113 0.69338522\n",
            " 0.9713025  0.80646605 0.05870097 0.55948759 0.82189675 0.42762387\n",
            " 0.76258667 0.00129172 0.5770984  0.56588525 0.65783772 0.7745123\n",
            " 0.19408136 0.55202142 0.4640897  0.502299   0.45861671 0.85560684\n",
            " 0.43755495 0.27691617 0.71497221 0.97667939 0.00218925 0.26016192\n",
            " 0.55022605 0.83638937 0.59176095 0.44478026 0.15300483 0.84576959\n",
            " 0.96085971 0.03114997 0.7937674  0.96787908 0.82240268 0.58810955\n",
            " 0.87455784 0.25974229 0.72288251 0.70411773 0.68529168 0.9025089\n",
            " 0.584192   0.95714852 0.06177219]\n",
            "[0.0, -1, -1, -1, -1, -1, 14.9071198499986, -1, -1, -1, -1, -1, -1, 14.9071198499986, -1, -1, -1, -1, -1, -1, -1, -1, -1, -1, -1, -1, 14.9071198499986, 6.666666666666666, 8.432740427115679, -1, -1, -1, -1, -1, -1, -1, -1, -1, -1, -1, 14.9071198499986, -1, -1, -1, -1, -1, -1, -1, -1, -1, -1]\n",
            "[0, 0, 0, 1, 0, 1, 1, 1, 0, 1, 1, 0, 1, 0, 1, 1, 1, 1, 0, 1, 0, 1, 0, 1, 0, 0, 1, 1, 0, 0, 1, 1, 1, 0, 0, 1, 1, 0, 1, 1, 1, 1, 1, 0, 1, 1, 1, 1, 1, 1, 0]\n"
          ]
        }
      ]
    },
    {
      "cell_type": "code",
      "source": [
        "  \n",
        "\n",
        "n=21              #customers\n",
        "NFT0=0.4\n",
        "lam=0.001\n",
        "cnt=10000\n",
        "t=60\n",
        "cij=np.array([[0,34,16,38,21,8,11,26,14,28,36,12,23,12,29,30,33,13,32,23,24],\n",
        "[34,0,33,25,22,30,24,31,20,34,26,22,16,34,8,36,30,30,36,13,18],\n",
        "[16,33,0,25,31,8,13,39,20,12,23,15,30,5,26,14,19,4,16,20,16],\n",
        "[38,25,25,0,39,30,27,49,30,15,2,27,34,30,18,16,7,26,13,19,15],\n",
        "[21,22,31,39,0,24,18,10,11,38,39,16,6,29,22,40,39,27,42,20,25],\n",
        "[8,30,8,30,24,0,6,31,13,20,28,8,23,5,24,22,25,5,24,18,16],\n",
        "[11,24,13,27,18,6,0,27,7,22,26,2,17,11,19,24,24,9,26,13,13],\n",
        "[26,31,39,49,10,31,27,0,21,48,49,26,16,36,32,50,49,35,52,30,35],\n",
        "[14,20,20,30,11,13,7,21,0,27,29,5,10,18,17,29,29,16,31,12,15],\n",
        "[28,34,12,15,38,20,22,48,27,0,13,23,36,17,26,2,8,15,4,22,16],\n",
        "[36,26,23,2,39,28,26,49,29,13,0,26,34,28,19,13,5,24,11,19,14],\n",
        "[12,22,15,27,16,8,2,26,5,23,26,0,15,13,17,25,25,11,27,11,12],\n",
        "[23,16,30,34,6,23,17,16,10,36,34,15,0,28,17,38,35,26,39,15,21],\n",
        "[12,34,5,30,29,5,11,36,18,17,28,13,28,0,27,19,24,4,21,21,18],\n",
        "[29,8,26,18,22,24,19,32,17,26,19,17,17,27,0,28,22,23,28,6,10],\n",
        "[30,36,14,16,40,22,24,50,29,2,13,25,38,19,28,0,8,17,3,24,18],\n",
        "[33,30,19,7,39,25,24,49,29,8,5,25,35,24,22,8,0,20,6,20,14],\n",
        "[13,30,4,26,27,5,9,35,16,15,24,11,26,4,23,17,20,0,19,17,14],\n",
        "[32,36,16,13,42,24,26,52,31,4,11,27,39,21,28,3,6,19,0,24,18],\n",
        "[23,13,20,19,20,18,13,30,12,22,19,11,15,21,6,24,20,17,24,0,6],\n",
        "[24,18,16,15,25,16,13,35,15,16,14,12,21,18,10,18,14,14,18,6,0]])\n",
        "\n",
        "                                                                                                          #matrix distances\n",
        "ei=np.array([0,41,88,132,24,0,0,3,0,112,194,0,69,0,146,105,117,0,130,0,174])            #earliest time\n",
        "li=np.array([345,183,247,275,137,101,76,155,140,255,308,93,202,106,289,263,264,104,233,122,308])      #latest time of i\n",
        "li0=np.array([345,183,247,275,137,101,76,155,140,255,308,93,202,106,289,263,264,104,233,122,308])     #latest time\n",
        "li0.sort()        #sort this array and compare to the previous array to take earliest time\n",
        "\n",
        "\n",
        "\n",
        "Sx=[]\n",
        "for j in range(n):\n",
        "    for k in range(n):\n",
        "        if(li[k]==li0[j] and k not in Sx):\n",
        "            Sx.append(k)                #check index cua li0 after sort and append Sx\n",
        "Sx.remove(0)                      #Sx: list khach hang can den tham\n",
        "\n",
        "A=[]\n",
        "c=0\n",
        "A.append(cij[0,Sx[0]])              #them t/g di tới khach hang đầu tiên vao A, A[q] là thời gian để đi tới khách hàng thứ q\n",
        "for q in range(n-2 ):\n",
        "    A.append(max(A[q],ei[Sx[q]])+cij[Sx[q],Sx[q+1]])        #max (A[q], ei[Sx[q]])    thời gian tới điểm đó hoặc thời gian sớm nhất có thể phục vụ tại điểm đó + quãng đường q -> q+1\n",
        "    if(A[q+1]<=li[Sx[q+1]]):              #nếu thời gian tới q+1 <= latest time ++c\n",
        "        c=c+1\n",
        "if(c<19):\n",
        "    print('initial infeasible solution: {}'.format(Sx))         #check lời giải trong li0 có feasible?\n",
        "\n",
        "\n",
        "# swapping elements to see for feasibility\n",
        "B=list(Sx)\n",
        "\n",
        "\n",
        "for u in range(n-1):\n",
        "    for v in range(n-1):\n",
        "        B[u],B[v]=B[v],B[u]                         #swap 2 kh thu u va v\n",
        "        M=[]\n",
        "        M.append(cij[0,B[0]])                   #Mi: thoi gian co mat o khach hang thu i+1\n",
        "        d=0\n",
        "        for q in range(n-2):\n",
        "            M.append(max(M[q],ei[B[q]])+cij[B[q],B[q+1]])\n",
        "            if(M[q+1]<=li[B[q+1]]):\n",
        "                d=d+1\n",
        "        if(d<19):                           #kiem tra neu infeasible thi thuc hien\n",
        "            funct=0\n",
        "            funct=M[-1]+cij[B[-1],0]+((19-d)*(1+(lam*t))/(NFT0))\n",
        "            if(funct<cnt):    #neu vi pham thi chac chan co cach di khac co tong thoi gian ngan hon -> sau khi swap tim duoc loi giai thi so sanh voi tong thoi gian cua loi giai cu\n",
        "                cnt=funct\n",
        "                O=list(B)\n",
        "                pi0=list(O)\n",
        "        if(d==19):            #feasible\n",
        "            Sl=list(B)\n",
        "            pi0=list(Sl)\n",
        "        B=list(Sx)\n",
        "\n",
        "#initial random solution\n",
        "#initial random infeasible solutions\n",
        "print('Initial random feasible solution: {}'.format(pi0))\n",
        "def calculator(pi):\n",
        "    N=[]\n",
        "    N.append(cij[0,pi[0]])\n",
        "    z=0\n",
        "    l=len(pi)\n",
        "    funct=0\n",
        "    for q in range(l-1):\n",
        "        N.append(max(N[q],ei[pi[q]])+cij[pi[q],pi[q+1]])\n",
        "        if(N[q+1]<=li[pi[q+1]]):\n",
        "            z=z+1\n",
        "    if(z<19 and l==20):\n",
        "        funct=N[-1]+cij[pi[-1],0]+((19-z)/(NFT0/(1+(lam*t))))\n",
        "    if(z==19 and l==20):\n",
        "        funct=N[-1]+cij[pi[-1],0]\n",
        "    if(l<20):\n",
        "        funct=N[-1]\n",
        "    return(np.array([19-z,funct,z==19]))                        #checking feasibility of initial\n",
        "print('Checking feasibility of initial random solution by feasibility calculator: {}'.format(calculator(pi0)[-1]==1))\n",
        "\n",
        "\n",
        "def VNS_1_Opt(pi):\n",
        "    kmax=2\n",
        "    k=1\n",
        "    while(k<=kmax):\n",
        "        if(k==1):\n",
        "            pi1=N1(pi)\n",
        "        if(k==2):\n",
        "            pi1=N2(pi)\n",
        "        pr0=calculator(pi)\n",
        "        pr1=calculator(pi1)\n",
        "        if( (((pr1[-1]==1)and(pr0[-1]==1))  and(pr1[1]<pr0[1]))    or  ((pr1[-1]==1)and(pr0[-1]==0))   or ((pr1[-1]==0) and(pr0[-1]==0)and(pr1[0]<pr0[0]))  or   ((pr0[-1]==0)and(pr1[-1]==1))   ):\n",
        "            pi=list(pi1)                #1 feasible and func smaller, 2 pi1 feasible, 3 infeasible and pi1 funct <, duplicate, redundant\n",
        "        else:\n",
        "            k=k+1\n",
        "    return(pi)\n",
        "\n",
        "def N1(pi):\n",
        "    for i in range(n-3,1):\n",
        "        remove=cij[pi[i],pi[i+1]]+c[pi[i-1],pi[i]]-c[pi[i-1],pi[i+1]]\n",
        "        for j in range(i-1,1):\n",
        "            add=cij[pi[j-1],pi[i]]+cij[pi[i],pi[j]]-cij[pi[j-1],pi[j]]\n",
        "            gain=add-remove\n",
        "            if(gain<0)and(ei[pi[j-1]]+cij[pi[j-1],pi[i]]<=li[pi[i]])            and(ei[pi[i]]+cij[pi[i],pi[j+1]]<=li[pi[j+1]]):\n",
        "                pi1=list(pi)\n",
        "                pi1.remove(pi[i])\n",
        "                pi1.insert(j,pi[i])\n",
        "                if(calculator(pi1)[1]<calculator(pi)[1]):\n",
        "                    pi=list(pi1)\n",
        "    return(pi)\n",
        "def N2(pi):\n",
        "    for i in range(1,n-3):\n",
        "        remove=cij[pi[i-1],pi[i]]+cij[pi[i],pi[i+1]]-cij[pi[i-1],pi[i+1]]\n",
        "        for j in range(i+1,n-3):\n",
        "            add=cij[pi[j],pi[i]]+cij[pi[i],pi[j+1]]-cij[pi[j],pi[j+1]]\n",
        "        gain=add-remove\n",
        "        if(gain<0)and(ei[pi[i]]+cij[pi[j],pi[i]]<=li[pi[i]])and(ei[pi[i]]+cij[pi[i],pi[j+1]]<=li[pi[j+1]]):\n",
        "            pi1=list(pi)\n",
        "            pi1.remove(pi[i])\n",
        "            pi1.insert(j,pi[i])\n",
        "            if(calculator(pi1)[1]<calculator(pi)[1]):\n",
        "                    pi=list(pi1)\n",
        "    return(pi)\n",
        "def DestructConstruct(pi,d):\n",
        "    piR=[]\n",
        "    piD=[]\n",
        "    piM=[]\n",
        "    piX=[]\n",
        "    piQ=[]\n",
        "    count=10000\n",
        "    G=list(pi)\n",
        "    piR=random.sample(G,d)\n",
        "    for i in (G):\n",
        "        if i not in(piR):\n",
        "            piD.append(i)\n",
        "    piX=list(piD)\n",
        "    for x in range(d):\n",
        "        piM=list(piX)\n",
        "        for y in range(len(pi)-d):\n",
        "            piM.insert(y,piR[x])\n",
        "            if(calculator(piM)[1]<count):\n",
        "                piQ=list(piM)\n",
        "                count=calculator(piM)[1]\n",
        "            piM=list(piX)\n",
        "            count=10000\n",
        "        piX=list(piQ)\n",
        "    if(piX==[]):\n",
        "        return (piR)\n",
        "    else:\n",
        "        return(piX)\n",
        "kmax=((n-1)/5)\n",
        "pi=VNS_1_Opt(pi0)\n",
        "pibest=list(pi)                           #VNS pi0 and store to pibest\n",
        "k=1\n",
        "while(k<=kmax):\n",
        "    d=k*5\n",
        "    pi1=DestructConstruct(pi,d)                     #destructConstruct pi and then VNS the result\n",
        "    pi2=VNS_1_Opt(pi1)\n",
        "    pc=calculator(pi)\n",
        "    pc2=calculator(pi2)\n",
        "    pcbest=calculator(pibest)\n",
        "    if((((pc2[-1]==1)and(pc[-1]==1))        and(pc2[1]<pc[1]))or((pc2[-1]==1)                    and(pc[-1]==0))or((pc2[-1]==0)                                and(pc[-1]==0)                                         and(pc2[0]<pc[0]))or((pc[-1]==0)                                                        and(pc2[-1]==1))):\n",
        "        k=1\n",
        "        pi=list(pi2)\n",
        "        pc=calculator(pi)\n",
        "        if((((pc[-1]==1)and(pcbest[-1]==1))and(pc[1]<pcbest[1]))or           ((pc[-1]==1)and(pcbest[-1]==0))or((pc[-1]==0)and(pcbest[-1]==0)                                and(pc[0]<pcbest[0]))or((pcbest[-1]==0)and(pc[-1]==1))):\n",
        "            pibest=list(pi)\n",
        "    else:\n",
        "        k=k+1\n",
        "print('The best solution obtained after VIG algorithm:{}'.format(pibest))\n",
        "print('The value of the function is: {}'.format(calculator(pibest)[1]))\n",
        "print(time.clock())\n",
        "\n"
      ],
      "metadata": {
        "id": "5TwIGWG0XcQB",
        "colab": {
          "base_uri": "https://localhost:8080/",
          "height": 287
        },
        "outputId": "3a9c6577-3980-4e5b-dd85-f3ecbcd632d3"
      },
      "execution_count": 63,
      "outputs": [
        {
          "output_type": "stream",
          "name": "stdout",
          "text": [
            "Initial random feasible solution: [6, 11, 5, 17, 13, 19, 4, 8, 7, 1, 12, 18, 2, 9, 15, 16, 3, 14, 10, 20]\n",
            "Checking feasibility of initial random solution by feasibility calculator: True\n",
            "The best solution obtained after VIG algorithm:[6, 11, 5, 17, 13, 19, 4, 8, 7, 1, 12, 18, 2, 9, 15, 16, 3, 14, 10, 20]\n",
            "The value of the function is: 309\n"
          ]
        },
        {
          "output_type": "error",
          "ename": "AttributeError",
          "evalue": "ignored",
          "traceback": [
            "\u001b[0;31m---------------------------------------------------------------------------\u001b[0m",
            "\u001b[0;31mAttributeError\u001b[0m                            Traceback (most recent call last)",
            "\u001b[0;32m<ipython-input-63-f8de752b2adf>\u001b[0m in \u001b[0;36m<module>\u001b[0;34m\u001b[0m\n\u001b[1;32m    191\u001b[0m \u001b[0mprint\u001b[0m\u001b[0;34m(\u001b[0m\u001b[0;34m'The best solution obtained after VIG algorithm:{}'\u001b[0m\u001b[0;34m.\u001b[0m\u001b[0mformat\u001b[0m\u001b[0;34m(\u001b[0m\u001b[0mpibest\u001b[0m\u001b[0;34m)\u001b[0m\u001b[0;34m)\u001b[0m\u001b[0;34m\u001b[0m\u001b[0;34m\u001b[0m\u001b[0m\n\u001b[1;32m    192\u001b[0m \u001b[0mprint\u001b[0m\u001b[0;34m(\u001b[0m\u001b[0;34m'The value of the function is: {}'\u001b[0m\u001b[0;34m.\u001b[0m\u001b[0mformat\u001b[0m\u001b[0;34m(\u001b[0m\u001b[0mcalculator\u001b[0m\u001b[0;34m(\u001b[0m\u001b[0mpibest\u001b[0m\u001b[0;34m)\u001b[0m\u001b[0;34m[\u001b[0m\u001b[0;36m1\u001b[0m\u001b[0;34m]\u001b[0m\u001b[0;34m)\u001b[0m\u001b[0;34m)\u001b[0m\u001b[0;34m\u001b[0m\u001b[0;34m\u001b[0m\u001b[0m\n\u001b[0;32m--> 193\u001b[0;31m \u001b[0mprint\u001b[0m\u001b[0;34m(\u001b[0m\u001b[0mtime\u001b[0m\u001b[0;34m.\u001b[0m\u001b[0mclock\u001b[0m\u001b[0;34m(\u001b[0m\u001b[0;34m)\u001b[0m\u001b[0;34m)\u001b[0m\u001b[0;34m\u001b[0m\u001b[0;34m\u001b[0m\u001b[0m\n\u001b[0m\u001b[1;32m    194\u001b[0m \u001b[0;34m\u001b[0m\u001b[0m\n",
            "\u001b[0;31mAttributeError\u001b[0m: 'float' object has no attribute 'clock'"
          ]
        }
      ]
    },
    {
      "cell_type": "code",
      "source": [
        "df = pd.DataFrame([customerX, customerY], index = ['X', 'Y'])\n",
        "df.T"
      ],
      "metadata": {
        "id": "a0ZbOlB_x2yE"
      },
      "execution_count": null,
      "outputs": []
    }
  ]
}